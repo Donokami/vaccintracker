{
 "cells": [
  {
   "cell_type": "code",
   "execution_count": 4,
   "metadata": {},
   "outputs": [
    {
     "name": "stdout",
     "output_type": "stream",
     "text": [
      "            jour  categorie_fine  clage_vacsi  n_dose1  n_complet  \\\n",
      "0     2020-12-27     18 - 24 ans           24        0          0   \n",
      "1     2020-12-27     25 - 29 ans           29        0          0   \n",
      "2     2020-12-27     30 - 39 ans           39        0          0   \n",
      "3     2020-12-27     40 - 49 ans           49        1          0   \n",
      "4     2020-12-27     50 - 59 ans           59        2          0   \n",
      "...          ...             ...          ...      ...        ...   \n",
      "1235  2021-04-29      60 -64 ans           64    72131      19566   \n",
      "1236  2021-04-29     65 - 69 ans           69    68771      23714   \n",
      "1237  2021-04-29     70 - 74 ans           74    37734      52734   \n",
      "1238  2021-04-29     75 - 79 ans           79    13180      20001   \n",
      "1239  2021-04-29  80 ans et plus           80    20494      34036   \n",
      "\n",
      "      n_cum_dose1  n_cum_complet  couv_dose1  couv_complet  code_spf  \\\n",
      "0               0              0         0.0           0.0        24   \n",
      "1               0              0         0.0           0.0        29   \n",
      "2               0              0         0.0           0.0        39   \n",
      "3               1              0         0.0           0.0        49   \n",
      "4               2              0         0.0           0.0        59   \n",
      "...           ...            ...         ...           ...       ...   \n",
      "1235      1856259         365154        45.3           8.9        64   \n",
      "1236      2054434         461343        52.7          11.8        69   \n",
      "1237      2491599         874149        71.6          25.1        74   \n",
      "1238      1747574        1285491        78.8          58.0        79   \n",
      "1239      2906522        2183943        69.9          52.5        80   \n",
      "\n",
      "      population  \n",
      "0        5240000  \n",
      "1        3590000  \n",
      "2        8030000  \n",
      "3        8320000  \n",
      "4        8490000  \n",
      "...          ...  \n",
      "1235     3980000  \n",
      "1236     3800000  \n",
      "1237     3400000  \n",
      "1238     2170000  \n",
      "1239     4080000  \n",
      "\n",
      "[1240 rows x 11 columns]\n",
      "13366188\n"
     ]
    }
   ],
   "source": [
    "import json\n",
    "import pandas as pd\n",
    "import requests\n",
    "import numpy as np\n",
    "\n",
    "## FRANCE\n",
    "def download_fra_data():\n",
    "  url = \"https://www.data.gouv.fr/fr/datasets/r/54dd5f8d-1e2e-4ccb-8fb8-eac68245befd\"\n",
    "  data = requests.get(url)\n",
    "\n",
    "  with open('../data/input/vacsi-a-fra.csv', 'wb') as f:\n",
    "          f.write(data.content)\n",
    "          \n",
    "def prepare_data(df):\n",
    "  df=df[df[\"clage_vacsi\"] != 0]\n",
    "  df_clage_vacsi = pd.read_csv('../data/input/clage_spf.csv', sep=';')\n",
    "  df = df.merge(df_clage_vacsi, left_on=\"clage_vacsi\", right_on=\"code_spf\").groupby([\"jour\", \"categorie_fine\"]).sum().reset_index()\n",
    "  return df\n",
    "\n",
    "def import_fra_data():\n",
    "  df = pd.read_csv('../data/input/vacsi-a-fra.csv', sep=None, engine='python')\n",
    "  return prepare_data(df)\n",
    "\n",
    "def csv_to_json_fra(df):\n",
    "  dict_json = {}\n",
    "\n",
    "  for clage in df[\"categorie_fine\"].tolist():\n",
    "    df_clage = df[df[\"categorie_fine\"] == clage]\n",
    "    dict_json[clage] = {\n",
    "                \"jour\": df_clage.jour.tolist(),\n",
    "                \"n_dose1\": df_clage.n_dose1.tolist(), \n",
    "                \"n_dose1_cum_pop\": list(np.round(df_clage.n_cum_dose1.values/df_clage.population.values*100, 2))\n",
    "              }\n",
    "\n",
    "  with open(\"data/output/vacsi-tot-a-fra.json\", \"w\") as outfile:\n",
    "    outfile.write(json.dumps(dict_json))\n",
    "\n",
    "\n",
    "download_fra_data()\n",
    "df = import_fra_data()\n",
    "print(df)\n",
    "print(df[df.clage_vacsi>=59].n_dose1.sum())\n",
    "#csv_to_json_fra(df)\n"
   ]
  },
  {
   "cell_type": "code",
   "execution_count": 10,
   "metadata": {},
   "outputs": [
    {
     "data": {
      "text/plain": [
       "0.5156708333333333"
      ]
     },
     "execution_count": 10,
     "metadata": {},
     "output_type": "execute_result"
    }
   ],
   "source": [
    "df_lastday = df[df.jour == df.jour.max()]\n",
    "df_lastday[df_lastday.clage_vacsi >= 59].n_cum_dose1.sum() / df_lastday[df_lastday.clage_vacsi >= 59].population.sum()"
   ]
  }
 ],
 "metadata": {
  "kernelspec": {
   "display_name": "Python 3",
   "language": "python",
   "name": "python3"
  },
  "language_info": {
   "codemirror_mode": {
    "name": "ipython",
    "version": 3
   },
   "file_extension": ".py",
   "mimetype": "text/x-python",
   "name": "python",
   "nbconvert_exporter": "python",
   "pygments_lexer": "ipython3",
   "version": "3.9.4"
  }
 },
 "nbformat": 4,
 "nbformat_minor": 2
}
